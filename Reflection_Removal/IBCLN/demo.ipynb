{
 "cells": [
  {
   "cell_type": "code",
   "execution_count": 1,
   "metadata": {},
   "outputs": [],
   "source": [
    "import os\n",
    "from options.test_options import TestOptions\n",
    "from data import create_dataset\n",
    "from models import create_model\n",
    "from util.visualizer import save_images\n",
    "from util import html"
   ]
  },
  {
   "cell_type": "code",
   "execution_count": 2,
   "metadata": {},
   "outputs": [
    {
     "name": "stdout",
     "output_type": "stream",
     "text": [
      "['3', '4', '9', '12', '15', '22', '23', '25', '29', '39', '46', '47', '58', '86', '87', '89', '93', '103', '107', '110']\n",
      "['3.jpg', '4.jpg', '9.jpg', '12.jpg', '15.jpg', '22.jpg', '23.jpg', '25.jpg', '29.jpg', '39.jpg', '46.jpg', '47.jpg', '58.jpg', '86.jpg', '87.jpg', '89.jpg', '93.jpg', '103.jpg', '107.jpg', '110.jpg']\n"
     ]
    }
   ],
   "source": [
    "list_testfiles = '/home/jupyter-warapob/Research/ReflectionRemoval/IBCLN/datasets/real_test.txt'\n",
    "filenames = []\n",
    "fullnames = []\n",
    "with open(list_testfiles, 'r') as f:\n",
    "    for line in f:\n",
    "        filenames.append((line.strip().split())[0].split('.')[0])\n",
    "        fullnames.append((line.strip().split())[0])\n",
    "f.close()\n",
    "print(filenames)\n",
    "print(fullnames)\n"
   ]
  },
  {
   "cell_type": "code",
   "execution_count": 3,
   "metadata": {},
   "outputs": [
    {
     "name": "stdout",
     "output_type": "stream",
     "text": [
      "['3_fake_Ts_03.png', '4_fake_Ts_03.png', '9_fake_Ts_03.png', '12_fake_Ts_03.png', '15_fake_Ts_03.png', '22_fake_Ts_03.png', '23_fake_Ts_03.png', '25_fake_Ts_03.png', '29_fake_Ts_03.png', '39_fake_Ts_03.png', '46_fake_Ts_03.png', '47_fake_Ts_03.png', '58_fake_Ts_03.png', '86_fake_Ts_03.png', '87_fake_Ts_03.png', '89_fake_Ts_03.png', '93_fake_Ts_03.png', '103_fake_Ts_03.png', '107_fake_Ts_03.png', '110_fake_Ts_03.png']\n",
      "['3_real_T_00.png', '4_real_T_00.png', '9_real_T_00.png', '12_real_T_00.png', '15_real_T_00.png', '22_real_T_00.png', '23_real_T_00.png', '25_real_T_00.png', '29_real_T_00.png', '39_real_T_00.png', '46_real_T_00.png', '47_real_T_00.png', '58_real_T_00.png', '86_real_T_00.png', '87_real_T_00.png', '89_real_T_00.png', '93_real_T_00.png', '103_real_T_00.png', '107_real_T_00.png', '110_real_T_00.png']\n"
     ]
    }
   ],
   "source": [
    "import os\n",
    "result_path = '/home/jupyter-warapob/Research/ReflectionRemoval/IBCLN/results/IBCLN/test_final/images'\n",
    "result_ls = []\n",
    "real_ls = []\n",
    "for indx in filenames:\n",
    "    for file in os.listdir(result_path):\n",
    "        if (file.split('.'))[0].split('_')[-1] == '03' and (file.split('.'))[0].split('_')[0] == indx :\n",
    "            if (file.split('.'))[0].split('_')[-2] == 'Ts':\n",
    "                result_ls.append(file)\n",
    "        elif (file.split('.'))[0].split('_')[-2] == 'T'and(file.split('.'))[0].split('_')[0] == indx:\n",
    "            real_ls.append(file)\n",
    "print(result_ls)\n",
    "print(real_ls)"
   ]
  },
  {
   "cell_type": "code",
   "execution_count": 6,
   "metadata": {},
   "outputs": [],
   "source": [
    "import cv2\n",
    "import torch\n",
    "import numpy as np\n",
    "from skimage.metrics import peak_signal_noise_ratio as psnr\n",
    "from skimage.metrics import structural_similarity as ssim"
   ]
  },
  {
   "cell_type": "code",
   "execution_count": 7,
   "metadata": {},
   "outputs": [],
   "source": [
    "calculated_result = []\n",
    "for n in range(len(result_ls)):\n",
    "    img1 = cv2.imread(\"/home/jupyter-warapob/Research/ReflectionRemoval/IBCLN/results/IBCLN/test_final/images/\"+real_ls[n])\n",
    "    img2 = cv2.imread(\"/home/jupyter-warapob/Research/ReflectionRemoval/IBCLN/results/IBCLN/test_final/images/\"+result_ls[n])\n",
    "    # Convert the images to PyTorch tensors\n",
    "    img1_tensor = torch.from_numpy(img1.transpose((2, 0, 1))).float().unsqueeze(0) / 255.0\n",
    "    img2_tensor = torch.from_numpy(img2.transpose((2, 0, 1))).float().unsqueeze(0) / 255.0\n",
    "\n",
    "    # Calculate the PSNR between the images\n",
    "    psnr_value = psnr(img1, img2, data_range=255)\n",
    "\n",
    "    # Calculate the SSIM between the images\n",
    "    ssim_value = ssim(img1, img2, multichannel=True, data_range=255)\n",
    "\n",
    "    calculated_result.append([fullnames[n],str(psnr_value),str(ssim_value)])"
   ]
  },
  {
   "cell_type": "code",
   "execution_count": 8,
   "metadata": {},
   "outputs": [
    {
     "name": "stdout",
     "output_type": "stream",
     "text": [
      "[['3.jpg', '22.552116423267666', '0.8406645717619409'], ['4.jpg', '20.979724246430685', '0.753223235132852'], ['9.jpg', '20.121745344397873', '0.8153639133794611'], ['12.jpg', '20.233759978848052', '0.8050256987312315'], ['15.jpg', '16.22447280921636', '0.6339671392037999'], ['22.jpg', '18.32822029898915', '0.6770573697913913'], ['23.jpg', '18.447031708142177', '0.6134515333323555'], ['25.jpg', '23.038365698231935', '0.7985724529515449'], ['29.jpg', '25.05824154157308', '0.8282148044392782'], ['39.jpg', '20.926872012268323', '0.6263957284689613'], ['46.jpg', '19.69929394180008', '0.6747866447875812'], ['47.jpg', '23.900714294292', '0.8325911609430322'], ['58.jpg', '33.57283788527462', '0.9150478364855436'], ['86.jpg', '22.758903878103162', '0.7383587886325427'], ['87.jpg', '16.611214228235628', '0.7495317574446895'], ['89.jpg', '24.935846365933703', '0.9008783890977797'], ['93.jpg', '26.4462598712998', '0.8651818698196356'], ['103.jpg', '24.13563204409612', '0.8994757444148095'], ['107.jpg', '16.968760410183695', '0.7694964321798091'], ['110.jpg', '16.301478931721892', '0.5779480419610621']]\n"
     ]
    }
   ],
   "source": [
    "print(calculated_result)"
   ]
  },
  {
   "cell_type": "code",
   "execution_count": null,
   "metadata": {},
   "outputs": [],
   "source": [
    "with open('IBCLNresult_metric.txt','w') as f:\n",
    "    for result_ls in calculated_result:\n",
    "        f.write(f'{result_ls[0]} {result_ls[1]} {result_ls[2]}\\n')\n",
    "f.close()\n"
   ]
  }
 ],
 "metadata": {
  "kernelspec": {
   "display_name": "IBCLN (Python 3.6.15)",
   "language": "python",
   "name": "ibcln"
  },
  "language_info": {
   "codemirror_mode": {
    "name": "ipython",
    "version": 3
   },
   "file_extension": ".py",
   "mimetype": "text/x-python",
   "name": "python",
   "nbconvert_exporter": "python",
   "pygments_lexer": "ipython3",
   "version": "3.6.15"
  },
  "orig_nbformat": 4
 },
 "nbformat": 4,
 "nbformat_minor": 2
}
